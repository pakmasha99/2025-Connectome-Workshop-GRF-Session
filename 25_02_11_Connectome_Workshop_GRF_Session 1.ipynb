{
  "nbformat": 4,
  "nbformat_minor": 0,
  "metadata": {
    "colab": {
      "provenance": []
    },
    "kernelspec": {
      "name": "python3",
      "display_name": "Python 3"
    },
    "language_info": {
      "name": "python"
    }
  },
  "cells": [
    {
      "cell_type": "markdown",
      "source": [
        "# Presentation slides"
      ],
      "metadata": {
        "id": "SfDzMgvZskMg"
      }
    },
    {
      "cell_type": "markdown",
      "source": [
        "[Google Slides](https://docs.google.com/presentation/d/1upwqZ6aUmanBl_KgIqDycoEBqGksXrgH-7lGAK8OJG0/edit#slide=id.g330630ba414_0_59)"
      ],
      "metadata": {
        "id": "z9l6ihFM98fA"
      }
    },
    {
      "cell_type": "markdown",
      "source": [
        "# Setup"
      ],
      "metadata": {
        "id": "YuiE8rfTITWG"
      }
    },
    {
      "cell_type": "code",
      "execution_count": null,
      "metadata": {
        "colab": {
          "base_uri": "https://localhost:8080/"
        },
        "id": "cOlVr7Ux932b",
        "outputId": "09761089-7c05-4e63-9bc2-629d56da6281"
      },
      "outputs": [
        {
          "output_type": "stream",
          "name": "stdout",
          "text": [
            "rpy2 is already installed\n"
          ]
        }
      ],
      "source": [
        "try:\n",
        "    import rpy2\n",
        "    print(\"rpy2 is already installed\")\n",
        "except ImportError:\n",
        "    !pip install rpy2\n",
        "    print(\"rpy2 has been installed\")"
      ]
    },
    {
      "cell_type": "code",
      "source": [
        "# Load the rpy2 extension\n",
        "%load_ext rpy2.ipython"
      ],
      "metadata": {
        "id": "eu4DnYZp-i75"
      },
      "execution_count": null,
      "outputs": []
    },
    {
      "cell_type": "code",
      "source": [
        "%%R\n",
        "# List the needed packages\n",
        "packages <- c(\"grf\", \"gtools\", \"ggplot2\", \"car\")\n",
        "\n",
        "# Install any package that is not already installed\n",
        "for (pkg in packages) {\n",
        "  if (!require(pkg, character.only = TRUE)) {\n",
        "    install.packages(pkg, repos = \"http://cran.rstudio.com/\")\n",
        "    library(pkg, character.only = TRUE)\n",
        "  }\n",
        "}"
      ],
      "metadata": {
        "colab": {
          "base_uri": "https://localhost:8080/"
        },
        "id": "91IvCTfg-sfP",
        "outputId": "cd842c73-0811-46aa-b574-fdd0d802fcc4",
        "collapsed": true
      },
      "execution_count": null,
      "outputs": [
        {
          "output_type": "stream",
          "name": "stderr",
          "text": [
            "WARNING:rpy2.rinterface_lib.callbacks:R[write to console]: Loading required package: IRdisplay\n",
            "\n"
          ]
        }
      ]
    },
    {
      "cell_type": "markdown",
      "source": [
        "# Import the data"
      ],
      "metadata": {
        "id": "UHXkBCiPRY72"
      }
    },
    {
      "cell_type": "code",
      "source": [
        "%%R\n",
        "# Data URL from GitHub\n",
        "data_url <- \"https://raw.githubusercontent.com/pakmasha99/2025-Connectome-Workshop-GRF-Session/refs/heads/main/data.csv\"\n",
        "\n",
        "# Import the dataset from the URL\n",
        "data <- read.csv(data_url, header = TRUE)\n",
        "\n",
        "print(\"Successfully imported the data\")"
      ],
      "metadata": {
        "id": "y9hT8W67PmlL",
        "colab": {
          "base_uri": "https://localhost:8080/"
        },
        "outputId": "10d78a9f-0b25-4a96-cbca-66c5071be049"
      },
      "execution_count": null,
      "outputs": [
        {
          "output_type": "stream",
          "name": "stdout",
          "text": [
            "[1] \"Successfully imported the data\"\n"
          ]
        }
      ]
    },
    {
      "cell_type": "code",
      "source": [
        "%%R\n",
        "# Explore the data\n",
        "cat(\"Total number of subjects:\", nrow(data), \"\\n\")\n",
        "cat(\"Total number of variables:\", length(names(data)), \"\\n\")\n",
        "cat(\"\\nVariable names:\\n\")\n",
        "names(data)"
      ],
      "metadata": {
        "id": "-HYg3lOYTPvq",
        "outputId": "ff47a047-e588-4ad1-8b24-5cd234184bb2",
        "colab": {
          "base_uri": "https://localhost:8080/"
        }
      },
      "execution_count": null,
      "outputs": [
        {
          "output_type": "stream",
          "name": "stdout",
          "text": [
            "Total number of subjects: 1000 \n",
            "Total number of variables: 68 \n",
            "\n",
            "Variable names:\n",
            " [1] \"ptsd_score\"                 \"media_exposure\"            \n",
            " [3] \"src_subject_id\"             \"demo_sex_v2\"               \n",
            " [5] \"demo_comb_income_v2\"        \"demo_prnt_ed_v2\"           \n",
            " [7] \"demo_prnt_marital_v2_1\"     \"demo_prnt_marital_v2_2\"    \n",
            " [9] \"demo_prnt_marital_v2_3\"     \"demo_prnt_marital_v2_4\"    \n",
            "[11] \"demo_prnt_marital_v2_5\"     \"demo_prnt_marital_v2_6\"    \n",
            "[13] \"race_ethnicity_1\"           \"race_ethnicity_2\"          \n",
            "[15] \"race_ethnicity_3\"           \"race_ethnicity_4\"          \n",
            "[17] \"race_ethnicity_5\"           \"site_id_l\"                 \n",
            "[19] \"interview_age\"              \"smri_vol_cdk_cuneuslh\"     \n",
            "[21] \"smri_vol_cdk_lobfrlh\"       \"smri_vol_cdk_parahpallh\"   \n",
            "[23] \"smri_vol_cdk_pericclh\"      \"smri_vol_cdk_pclh\"         \n",
            "[25] \"smri_vol_cdk_rracatelh\"     \"smri_vol_cdk_sufrlh\"       \n",
            "[27] \"smri_vol_cdk_smlh\"          \"smri_vol_cdk_frpolelh\"     \n",
            "[29] \"smri_vol_cdk_tmpolelh\"      \"smri_vol_cdk_trvtmlh\"      \n",
            "[31] \"smri_vol_cdk_cdacaterh\"     \"smri_vol_cdk_cuneusrh\"     \n",
            "[33] \"smri_vol_cdk_iftmrh\"        \"smri_vol_cdk_loccrh\"       \n",
            "[35] \"smri_vol_cdk_lobfrrh\"       \"smri_vol_cdk_lingualrh\"    \n",
            "[37] \"smri_vol_cdk_mobfrrh\"       \"smri_vol_cdk_mdtmrh\"       \n",
            "[39] \"smri_vol_cdk_parahpalrh\"    \"smri_vol_cdk_paracnrh\"     \n",
            "[41] \"smri_vol_cdk_precnrh\"       \"smri_vol_cdk_rracaterh\"    \n",
            "[43] \"smri_vol_cdk_sutmrh\"        \"smri_vol_cdk_frpolerh\"     \n",
            "[45] \"smri_vol_cdk_tmpolerh\"      \"smri_vol_cdk_trvtmrh\"      \n",
            "[47] \"smri_vol_scs_cbwmatterlh\"   \"smri_vol_scs_caudatelh\"    \n",
            "[49] \"smri_vol_scs_cbwmatterrh\"   \"smri_vol_scs_tprh\"         \n",
            "[51] \"smri_vol_scs_caudaterh\"     \"smri_vol_scs_hpusrh\"       \n",
            "[53] \"smri_vol_scs_amygdalarh\"    \"smri_vol_scs_vedcrh\"       \n",
            "[55] \"smri_vol_scs_suprateialv\"   \"smri_vol_scs_subcorticalgv\"\n",
            "[57] \"smri_vol_cf2_frlh\"          \"smri_vol_cf4_frlh\"         \n",
            "[59] \"smri_vol_cf4_pllh\"          \"smri_vol_cf12_cnlh\"        \n",
            "[61] \"smri_vol_cf12_supllh\"       \"smri_vol_cf12_dmfrlh\"      \n",
            "[63] \"smri_vol_cf12_pclh\"         \"smri_vol_cf12_dlprefrlh\"   \n",
            "[65] \"smri_vol_cf12_parsopclh\"    \"smri_vol_cf4_frrh\"         \n",
            "[67] \"smri_vol_cf12_pcrh\"         \"smri_vol_cf12_dlprefrrh\"   \n"
          ]
        }
      ]
    },
    {
      "cell_type": "markdown",
      "source": [
        "# Prepare the data"
      ],
      "metadata": {
        "id": "VpfGmBVGmfAz"
      }
    },
    {
      "cell_type": "markdown",
      "source": [
        "### Skipped preprocessing steps"
      ],
      "metadata": {
        "id": "rJlxPV4Uq1U4"
      }
    },
    {
      "cell_type": "markdown",
      "source": [
        "* data cleaning (ex: data quality check, handling missing data)\n",
        "* dummy coding\n",
        "* removing nero-zero-variance features"
      ],
      "metadata": {
        "id": "9JfDa-DUq8NS"
      }
    },
    {
      "cell_type": "markdown",
      "source": [
        "### Z-scaling"
      ],
      "metadata": {
        "id": "c8bpozNqrGww"
      }
    },
    {
      "cell_type": "code",
      "source": [
        "%%R\n",
        "# Choose variables that do not need z-scaling (binary and character variables)\n",
        "no_scaling <- c('media_exposure', 'src_subject_id','demo_sex_v2',\n",
        "                'demo_prnt_marital_v2_1','demo_prnt_marital_v2_2','demo_prnt_marital_v2_3','demo_prnt_marital_v2_4','demo_prnt_marital_v2_5','demo_prnt_marital_v2_6',\n",
        "                'race_ethnicity_1','race_ethnicity_2','race_ethnicity_3','race_ethnicity_4','race_ethnicity_5', 'site_id_l')\n",
        "\n",
        "# Scale the rest\n",
        "scale_vars <- names(data)[!(names(data) %in% no_scaling)]\n",
        "\n",
        "for(i in 1:ncol(data)){\n",
        "  if(names(data)[i] %in% scale_vars){\n",
        "    data[,i] <- as.vector(scale(data[,i]))\n",
        "  }\n",
        "}\n",
        "\n",
        "# Check the results\n",
        "print(data[1:5,1:5])"
      ],
      "metadata": {
        "colab": {
          "base_uri": "https://localhost:8080/"
        },
        "id": "yJ2wWlmIokha",
        "outputId": "aaa2dd40-d282-481f-e8bf-1f04a8bbf6e8"
      },
      "execution_count": null,
      "outputs": [
        {
          "output_type": "stream",
          "name": "stdout",
          "text": [
            "  ptsd_score media_exposure   src_subject_id demo_sex_v2 demo_comb_income_v2\n",
            "1  0.3011178              0 NDAR_INV8451EHXW           0           0.7364113\n",
            "2 -0.4373762              0 NDAR_INV891DYM0E           0           1.1598796\n",
            "3  0.2374287              0 NDAR_INVWYD2KHZZ           0           0.3129431\n",
            "4 -0.3090985              1 NDAR_INV9V77D3CT           1           0.7364113\n",
            "5 -0.6658870              1 NDAR_INV5XU9RLTX           0          -0.1105252\n"
          ]
        }
      ]
    },
    {
      "cell_type": "markdown",
      "source": [
        "# GRF analysis"
      ],
      "metadata": {
        "id": "wIUkbq_Qsnb-"
      }
    },
    {
      "cell_type": "markdown",
      "source": [
        "### Set the treatment, outcome, covariate, and variables"
      ],
      "metadata": {
        "id": "dxUAGTjzwmu4"
      }
    },
    {
      "cell_type": "code",
      "source": [
        "%%R\n",
        "Y <- data$ptsd_score                                                                   # outcome\n",
        "W <- data$media_exposure                                                               # treatment\n",
        "X <- subset(data, select = -c(ptsd_score, media_exposure, src_subject_id, site_id_l))  # covariates\n",
        "site_id_l <- as.factor(data$site_id_l)                                                 # clustering variable"
      ],
      "metadata": {
        "id": "ygb2ibjusm5s"
      },
      "execution_count": null,
      "outputs": []
    },
    {
      "cell_type": "markdown",
      "source": [
        "### Fit a causal forest model\n"
      ],
      "metadata": {
        "id": "gWA0ZAitwffN"
      }
    },
    {
      "cell_type": "code",
      "source": [
        "%%R\n",
        "# Sample the random seeds\n",
        "# seeds <- sample(1:10000, size = 5, replace = FALSE)  <- for a real experiment, do not forget to save the output\n",
        "seeds <- c(1532, 3980)\n",
        "\n",
        "# Create an empty list for forest models\n",
        "forest_list <- list()\n",
        "\n",
        "# Fit a forest model for each seed\n",
        "for(seed_ind in 1:length(seeds)){\n",
        "\n",
        "  print(paste(\"Fitting a model for a seed\", seed_ind, sep=' '))\n",
        "\n",
        "  forest <- causal_forest(X, Y, W,                         # covariates, outcome, treatment\n",
        "                          Y.hat = NULL, W.hat = NULL,      # expected outcomes and treatment propensities (if NULL, estimated using a separate regression forest)\n",
        "                          compute.oob.predictions = FALSE, # computing out-of-bag predicitons\n",
        "                          clusters = site_id_l,            # clustering\n",
        "                          num.trees = 1000,                # number of trees in a forest\n",
        "                          sample.fraction = 0.5,           # fraction of the data used to build each tree\n",
        "                          tune.parameters = 'all',         # hyperparameter tuning\n",
        "                          num.threads = 16,                # number of threads\n",
        "                          seed = seeds[seed_ind])          # random seed\n",
        "\n",
        "  forest_list[[paste0('seed', seed_ind)]] <- forest        # save each forest to the list\n",
        "}\n",
        "\n",
        "# Merge the models into one big forest\n",
        "forest_merged <- merge_forests(forest_list, compute.oob.predictions = TRUE)\n",
        "cat(\"\\nFinished model fitting\")"
      ],
      "metadata": {
        "colab": {
          "base_uri": "https://localhost:8080/"
        },
        "id": "84zODs0zvUwk",
        "outputId": "a1d619d3-942d-4ffe-ed6d-f39cc3294146"
      },
      "execution_count": null,
      "outputs": [
        {
          "output_type": "stream",
          "name": "stdout",
          "text": [
            "[1] \"Fitting a model for a seed 1\"\n",
            "[1] \"Fitting a model for a seed 2\"\n",
            "\n",
            "Finished model fitting"
          ]
        }
      ]
    },
    {
      "cell_type": "markdown",
      "source": [
        "### Estimate average treatment effect (ATE)"
      ],
      "metadata": {
        "id": "Nw4m1b9T2PKU"
      }
    },
    {
      "cell_type": "code",
      "source": [
        "%%R\n",
        "ate <- average_treatment_effect(forest_merged, method = 'AIPW', target.sample = 'all')\n",
        "ate_t <- ate[1] / ate[2]                              # t-score\n",
        "ate_p <- 1.96 * (1 - pnorm(abs(ate_t)))               # p-value\n",
        "ate_ci_low <- ate[1] - 1 * qnorm(0.975) * ate[2]      # 95% CI: low boundary\n",
        "ate_ci_high <- ate[1] + 1 * qnorm(0.975) * ate[2]     # 95% CI: high boundary\n",
        "ate_results <- data.frame(ate[1], ate[2], ate_t, ate_p, ate_ci_low, ate_ci_high)\n",
        "rownames(ate_results) <- 'ATE'\n",
        "colnames(ate_results) <- c(\"estimate\", \"SE\", \"t-score\", \"p-value\", \"[95% \", \" CI]\")\n",
        "print(ate_results)"
      ],
      "metadata": {
        "colab": {
          "base_uri": "https://localhost:8080/"
        },
        "id": "2lj2KKy6la3U",
        "outputId": "6d215503-6a3a-44ac-9901-7c39701e1657"
      },
      "execution_count": null,
      "outputs": [
        {
          "output_type": "stream",
          "name": "stdout",
          "text": [
            "     estimate         SE  t-score p-value     [95%        CI]\n",
            "ATE 0.4674549 0.03037165 15.39116       0 0.4079276 0.5269822\n"
          ]
        }
      ]
    },
    {
      "cell_type": "markdown",
      "source": [
        "### Examine the model fit and conditional average treatment effect (CATE)\n"
      ],
      "metadata": {
        "id": "6Nqkx4cY7i6c"
      }
    },
    {
      "cell_type": "code",
      "source": [
        "%%R\n",
        "test_cal <- test_calibration(forest_merged)\n",
        "print(test_cal)\n",
        "cat(\"\\np-value of the heterogeneous treatment effects:\", test_cal[2, 4])"
      ],
      "metadata": {
        "colab": {
          "base_uri": "https://localhost:8080/"
        },
        "id": "1Ls-sKEp7kue",
        "outputId": "3e39e4f7-eb3f-41e4-c3b4-ff5df22e04e2"
      },
      "execution_count": null,
      "outputs": [
        {
          "output_type": "stream",
          "name": "stdout",
          "text": [
            "\n",
            "Best linear fit using forest predictions (on held-out data)\n",
            "as well as the mean forest prediction as regressors, along\n",
            "with one-sided heteroskedasticity-robust (HC3) SEs:\n",
            "\n",
            "                               Estimate Std. Error t value    Pr(>t)    \n",
            "mean.forest.prediction         1.031478   0.078434 13.1510 < 2.2e-16 ***\n",
            "differential.forest.prediction 1.866614   0.562223  3.3201 0.0004663 ***\n",
            "---\n",
            "Signif. codes:  0 ‘***’ 0.001 ‘**’ 0.01 ‘*’ 0.05 ‘.’ 0.1 ‘ ’ 1\n",
            "\n",
            "\n",
            "p-value of the heterogeneous treatment effects: 0.0004662849"
          ]
        }
      ]
    },
    {
      "cell_type": "code",
      "source": [
        "%%R\n",
        "# Create a CATE distribution plot\n",
        "est_cate <- data.frame(est_cate = get_scores(forest_merged))\n",
        "\n",
        "ggplot() +\n",
        "  geom_density(data = est_cate, aes(x = est_cate), fill = \"skyblue\", color = \"skyblue\", alpha = 0.5) +\n",
        "  geom_vline(xintercept = mean(est_cate$est_cate), linetype = 'dashed') +\n",
        "  labs(x = \"Individual treatment effect\", y = \"Frequency\", title = \"Distribution of the individual treatment effect\") +\n",
        "  theme_minimal() +\n",
        "  theme(panel.grid = element_blank(),\n",
        "        axis.text = element_text(color='black'),\n",
        "        plot.title = element_text(size = 20, hjust = 0.5),\n",
        "        axis.title = element_text(size = 15))"
      ],
      "metadata": {
        "colab": {
          "base_uri": "https://localhost:8080/",
          "height": 497
        },
        "id": "XliOm04IRU0o",
        "outputId": "7b49996a-10f0-485f-8c37-40b44541b71f"
      },
      "execution_count": null,
      "outputs": [
        {
          "output_type": "display_data",
          "data": {
            "image/png": "[encoded data removed]"
          },
          "metadata": {}
        }
      ]
    },
    {
      "cell_type": "code",
      "source": [
        "%%R\n",
        "# Compare the individual treatment effects between high- and low-effect groups\n",
        "pred_ite <- predict(forest_merged)$predictions\n",
        "num_rankings <- 2       # number of groups\n",
        "ranking <- rep(NA, nrow(data))\n",
        "pred_ite_quantiles <- quantile(pred_ite, probs = seq(0, 1, by = 1/num_rankings))\n",
        "ranking <- cut(pred_ite, pred_ite_quantiles, include.lowest = TRUE, labels=seq(num_rankings))\n",
        "\n",
        "# Estimate the treatment effect within groups\n",
        "est_ite <- get_scores(forest_merged)\n",
        "df <- data.frame(ranking, est_ite)\n",
        "\n",
        "# Perform t-test between high- and low-effect groups\n",
        "l_test <- leveneTest(est_ite ~ ranking, data = df)     # test for equal variances\n",
        "cat(\"Levene's Test for Homogeneity of Variance: p-value = \", l_test$`Pr(>F)`[1])\n",
        "ite_low <- df$est_ite[df$ranking == '1']\n",
        "ite_high <- df$est_ite[df$ranking == '2']\n",
        "t_test <- t.test(ite_high, ite_low, alternative = 'greater', paired = F, var.equal = T) # alternative = \"greater\" is the alternative that x has a larger mean than y\n",
        "cat(\"\\nMean of the low-ITE group:\", mean(ite_low))\n",
        "cat(\"\\nMean of the high-ITE group:\", mean(ite_high))\n",
        "cat(\"\\nt-test results:\", \"t(\", t_test$parameter, \")\", \" = \", t_test$statistic, \", p-value = \", t_test$p.value)\n",
        "\n",
        "# Visualize the results\n",
        "ggplot(df, aes(x = ranking, y = est_ite, fill = ranking)) +\n",
        "  geom_boxplot(alpha = 0.6) +\n",
        "  labs(y = \"Individual treatment effect\", x = \"\", title = \"Difference of the individual treatment effect (ITE)\") +\n",
        "  scale_fill_manual(values = c(\"skyblue\", \"brown\")) +\n",
        "  scale_x_discrete(labels = c('Low-ITE group','High-ITE group')) +\n",
        "  theme_minimal() +\n",
        "  theme(legend.position = \"none\",\n",
        "        panel.grid = element_blank(),\n",
        "        axis.title = element_text(size = 15),\n",
        "        axis.text = element_text(size = 15, color = 'black'),\n",
        "        plot.title = element_text(size = 20, hjust = 0.5))\n"
      ],
      "metadata": {
        "colab": {
          "base_uri": "https://localhost:8080/",
          "height": 568
        },
        "id": "YODNOc8TkAl4",
        "outputId": "9eeb4ae7-f060-40c7-8997-be0059947d0d"
      },
      "execution_count": null,
      "outputs": [
        {
          "output_type": "stream",
          "name": "stdout",
          "text": [
            "Levene's Test for Homogeneity of Variance: p-value =  0.4874981\n",
            "Mean of the low-ITE group: 0.3748211\n",
            "Mean of the high-ITE group: 0.5600887\n",
            "t-test results: t( 998 )  =  2.874881 , p-value =  0.00206383"
          ]
        },
        {
          "output_type": "display_data",
          "data": {
            "image/png": "[encoded data removed]"
          },
          "metadata": {}
        }
      ]
    },
    {
      "cell_type": "markdown",
      "source": [
        "### Best linear projection"
      ],
      "metadata": {
        "id": "9N9EQULS-idN"
      }
    },
    {
      "cell_type": "code",
      "source": [
        "%%R\n",
        "blp <- best_linear_projection(forest_merged, X)\n",
        "blp <- as.data.frame(blp[,])\n",
        "cat(\"Variables with significant BLP:\\n\")\n",
        "print(blp[blp$'Pr(>|t|)' < 0.05,])"
      ],
      "metadata": {
        "colab": {
          "base_uri": "https://localhost:8080/"
        },
        "id": "Gcilyne6_cXa",
        "outputId": "bda59066-775e-4559-9138-985670e9b324"
      },
      "execution_count": null,
      "outputs": [
        {
          "output_type": "stream",
          "name": "stdout",
          "text": [
            "Variables with significant BLP:\n",
            "                          Estimate Std. Error   t value    Pr(>|t|)\n",
            "(Intercept)             0.52625433 0.17933643  2.934453 0.003422885\n",
            "demo_sex_v2            -0.19200217 0.06880685 -2.790451 0.005370335\n",
            "interview_age           0.07973504 0.03562744  2.238024 0.025453775\n",
            "smri_vol_cdk_rracatelh  0.12439101 0.04542572  2.738339 0.006292143\n",
            "smri_vol_cdk_mdtmrh     0.09124951 0.04500131  2.027708 0.042872675\n"
          ]
        }
      ]
    },
    {
      "cell_type": "markdown",
      "source": [
        "### Variable importance"
      ],
      "metadata": {
        "id": "dfFwl4CG7szZ"
      }
    },
    {
      "cell_type": "code",
      "source": [
        "%%R\n",
        "# Variable importance\n",
        "var_imp <- c(variable_importance(forest_merged))\n",
        "names(var_imp) <- colnames(X)\n",
        "sorted_var_imp <- sort(var_imp, decreasing = TRUE)   # sort in decreasing order\n",
        "sorted_var_imp <- data.frame(importance = sorted_var_imp)\n",
        "print(head(sorted_var_imp))"
      ],
      "metadata": {
        "colab": {
          "base_uri": "https://localhost:8080/"
        },
        "id": "cV5zvGp57r3N",
        "outputId": "1d0ea23b-d2f4-42be-9274-4479de43f85d"
      },
      "execution_count": null,
      "outputs": [
        {
          "output_type": "stream",
          "name": "stdout",
          "text": [
            "                           importance\n",
            "smri_vol_cdk_parahpallh    0.05757310\n",
            "smri_vol_cdk_rracaterh     0.03207018\n",
            "smri_vol_cf12_pclh         0.03153482\n",
            "smri_vol_cf12_supllh       0.03018995\n",
            "smri_vol_scs_subcorticalgv 0.02823075\n",
            "smri_vol_cdk_cuneusrh      0.02701466\n"
          ]
        }
      ]
    },
    {
      "cell_type": "code",
      "source": [
        "# %%R\n",
        "# # Variable importance significance test\n",
        "# var_imp_sign <- list()\n",
        "\n",
        "# # Set the number of iterations\n",
        "# num_iter <- 100\n",
        "\n",
        "# for(iter in 1:num_iter){\n",
        "\n",
        "#   # Permute the treatment variable\n",
        "#   W_perm <- permute(W)\n",
        "\n",
        "#   # Fit the forest model\n",
        "#   forest <- causal_forest(X, Y, W_perm,\n",
        "#                           Y.hat = NULL, W.hat = NULL,\n",
        "#                           compute.oob.predictions = TRUE,\n",
        "#                           num.trees = 1000,\n",
        "#                           tune.parameters = 'all',\n",
        "#                           num.threads = 16,\n",
        "#                           seed = sample(1:10000, size = 1))\n",
        "\n",
        "#   # Calculate and save variable importance\n",
        "#   var_imp_iter <- c(variable_importance(forest))\n",
        "#   var_imp_sign[[paste0('iter=', iter)]] <- var_imp_iter\n",
        "# }\n",
        "\n",
        "# # Calculate the 95th percentile\n",
        "# var_imp_vec <- unlist(var_imp_sign)\n",
        "# threshold <- quantile(var_imp_vec, probs = 0.95)\n",
        "# cat(\"Variable importance significance threshold:\", threshold)"
      ],
      "metadata": {
        "id": "qY8RaaST-cz2"
      },
      "execution_count": null,
      "outputs": []
    },
    {
      "cell_type": "code",
      "source": [
        "%%R\n",
        "# Visualize the results\n",
        "sign_var_imp = rownames(sorted_var_imp)[sorted_var_imp$importance > threshold]\n",
        "cat(\"Variable with significant variable importance:\", sign_var_imp, \"(left parahippocampal gyrus)\")\n",
        "\n",
        "ggplot(top20, aes(x = reorder(variable, importance), y = importance)) +\n",
        "  geom_bar(stat = \"identity\", fill = \"skyblue\") +\n",
        "  coord_flip() +\n",
        "  geom_hline(yintercept = threshold, linetype = \"dashed\") +\n",
        "  labs(x = \"Variable importance\",\n",
        "       y = \"\",\n",
        "       title = \"Top 20 variables with the highest importance\") +\n",
        "  theme_minimal() +\n",
        "  theme(axis.text = element_text(size = 15),\n",
        "        axis.title = element_text(size = 15),\n",
        "        panel.grid = element_blank(),\n",
        "        plot.title = element_text(size = 20, hjust = 1.3))"
      ],
      "metadata": {
        "colab": {
          "base_uri": "https://localhost:8080/",
          "height": 515
        },
        "id": "xk0vV6X247y1",
        "outputId": "b3a1e864-0d1d-4ecd-bb88-1dde4e2666d4"
      },
      "execution_count": null,
      "outputs": [
        {
          "output_type": "stream",
          "name": "stdout",
          "text": [
            "Variable with significant variable importance: smri_vol_cdk_parahpallh (left parahippocampal gyrus)"
          ]
        },
        {
          "output_type": "display_data",
          "data": {
            "image/png": "[encoded data removed]"
          },
          "metadata": {}
        }
      ]
    },
    {
      "cell_type": "markdown",
      "source": [
        "Left parahippocampal gyrus:\n",
        "\n",
        "<img src=\"https://upload.wikimedia.org/wikipedia/commons/9/96/Sobo_1909_630_-_Parahippocampal_gyrus.png\" alt=\"description\" width=\"300\" height=\"300\">\n"
      ],
      "metadata": {
        "id": "YZB-6Ko29Un9"
      }
    },
    {
      "cell_type": "markdown",
      "source": [
        "### Partial dependence plots"
      ],
      "metadata": {
        "id": "OtcgMEzSC9iC"
      }
    },
    {
      "cell_type": "code",
      "source": [
        "%%R\n",
        "# Set the covariate of interest\n",
        "selected_covariate <- \"smri_vol_cdk_parahpallh\"\n",
        "covariates <- names(X)\n",
        "other_covariates <- covariates[which(covariates != selected_covariate)]\n",
        "\n",
        "# Calculate percentiles for the selected covariate\n",
        "percentiles <- c(0, .25, .5, .75, 1)\n",
        "grid_size <- length(percentiles)\n",
        "covariate_grid <- quantile(data[,selected_covariate], probs=percentiles)\n",
        "\n",
        "# Take median of other covariates\n",
        "medians <- apply(data[, other_covariates, F], 2, median)\n",
        "\n",
        "# Construct a dataset\n",
        "data_grid <- data.frame(sapply(medians, function(x) rep(x, grid_size)), covariate_grid)\n",
        "colnames(data_grid) <- c(other_covariates, selected_covariate)\n",
        "fmla <- formula(paste0(\"~ 0 + \", paste0(covariates, collapse = \"+\")))\n",
        "X_grid <- model.matrix(fmla, data_grid)\n",
        "\n",
        "# Calculate predictions of the CATE and standard errors when other covariates are fixed at the median\n",
        "forest_pred <- predict(forest_merged, newdata = X_grid, estimate.variance = TRUE)\n",
        "tau_hat <- forest_pred$predictions\n",
        "tau_hat_se <- sqrt(forest_pred$variance.estimates)\n",
        "quantiles <- c('Q0','Q1','Q2','Q3','Q4')\n",
        "univ_sim_data <- data.frame(quantiles, tau_hat)\n",
        "\n",
        "# Create a partial dependence plot\n",
        "ggplot(univ_sim_data, aes(x = quantiles, y = tau_hat, group = 1)) +\n",
        "  geom_point(size = 5) +\n",
        "  geom_line() +\n",
        "  geom_errorbar(aes(ymin = tau_hat - tau_hat_se, ymax = tau_hat + tau_hat_se), width = 0.1) +\n",
        "  labs(x = \"Left parahippocampal gyrus volume\", y = \"Individual treatment effect\", title = \"Partial dependence plot\") +\n",
        "  theme_minimal() +\n",
        "  theme(panel.grid = element_blank(),\n",
        "        axis.title = element_text(size = 15),\n",
        "        axis.text = element_text(size = 15),\n",
        "        plot.title = element_text(size = 20, hjust = 0.5))"
      ],
      "metadata": {
        "colab": {
          "base_uri": "https://localhost:8080/",
          "height": 497
        },
        "id": "_9-6nGAuC_UU",
        "outputId": "2e97fe1e-9120-4cec-905c-94efbb955836"
      },
      "execution_count": null,
      "outputs": [
        {
          "output_type": "display_data",
          "data": {
            "image/png": "[encoded data removed]"
          },
          "metadata": {}
        }
      ]
    }
  ]
}